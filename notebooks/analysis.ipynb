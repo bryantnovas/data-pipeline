{
 "metadata": {
  "language_info": {
   "codemirror_mode": {
    "name": "ipython",
    "version": 3
   },
   "file_extension": ".py",
   "mimetype": "text/x-python",
   "name": "python",
   "nbconvert_exporter": "python",
   "pygments_lexer": "ipython3",
   "version": "3.7.4-final"
  },
  "orig_nbformat": 2,
  "kernelspec": {
   "name": "python374jvsc74a57bd0e134e05457d34029b6460cd73bbf1ed73f339b5b6d98c95be70b69eba114fe95",
   "display_name": "Python 3.7.4 64-bit ('base': conda)"
  }
 },
 "nbformat": 4,
 "nbformat_minor": 2,
 "cells": [
  {
   "cell_type": "code",
   "execution_count": 2,
   "metadata": {},
   "outputs": [],
   "source": [
    "import numpy as np \n",
    "import pandas as pd \n",
    "import seaborn as sns\n",
    "import matplotlib.pyplot as plt"
   ]
  },
  {
   "cell_type": "code",
   "execution_count": 4,
   "metadata": {},
   "outputs": [
    {
     "output_type": "execute_result",
     "data": {
      "text/plain": [
       "         appid                        name release_date  english  \\\n",
       "0           10              Counter-Strike   2000-11-01        1   \n",
       "1           20       Team Fortress Classic   1999-04-01        1   \n",
       "2           30               Day of Defeat   2003-05-01        1   \n",
       "3           40          Deathmatch Classic   2001-06-01        1   \n",
       "4           50   Half-Life: Opposing Force   1999-11-01        1   \n",
       "...        ...                         ...          ...      ...   \n",
       "27070  1065230             Room of Pandora   2019-04-24        1   \n",
       "27071  1065570                   Cyber Gun   2019-04-23        1   \n",
       "27072  1065650            Super Star Blast   2019-04-24        1   \n",
       "27073  1066700  New Yankee 7: Deer Hunters   2019-04-17        1   \n",
       "27074  1069460                   Rune Lord   2019-04-24        1   \n",
       "\n",
       "                developer             publisher          platforms  \\\n",
       "0                   Valve                 Valve  windows;mac;linux   \n",
       "1                   Valve                 Valve  windows;mac;linux   \n",
       "2                   Valve                 Valve  windows;mac;linux   \n",
       "3                   Valve                 Valve  windows;mac;linux   \n",
       "4        Gearbox Software                 Valve  windows;mac;linux   \n",
       "...                   ...                   ...                ...   \n",
       "27070         SHEN JIAWEI           SHEN JIAWEI            windows   \n",
       "27071      Semyon Maximov      BekkerDev Studio            windows   \n",
       "27072         EntwicklerX           EntwicklerX            windows   \n",
       "27073  Yustas Game Studio  Alawar Entertainment        windows;mac   \n",
       "27074    Adept Studios GD  Alawar Entertainment        windows;mac   \n",
       "\n",
       "       required_age                                         categories  \\\n",
       "0                 0  Multi-player;Online Multi-Player;Local Multi-P...   \n",
       "1                 0  Multi-player;Online Multi-Player;Local Multi-P...   \n",
       "2                 0              Multi-player;Valve Anti-Cheat enabled   \n",
       "3                 0  Multi-player;Online Multi-Player;Local Multi-P...   \n",
       "4                 0  Single-player;Multi-player;Valve Anti-Cheat en...   \n",
       "...             ...                                                ...   \n",
       "27070             0                   Single-player;Steam Achievements   \n",
       "27071             0                                      Single-player   \n",
       "27072             0  Single-player;Multi-player;Co-op;Shared/Split ...   \n",
       "27073             0                          Single-player;Steam Cloud   \n",
       "27074             0                          Single-player;Steam Cloud   \n",
       "\n",
       "                       genres                 steamspy_tags  achievements  \\\n",
       "0                      Action        Action;FPS;Multiplayer             0   \n",
       "1                      Action        Action;FPS;Multiplayer             0   \n",
       "2                      Action  FPS;World War II;Multiplayer             0   \n",
       "3                      Action        Action;FPS;Multiplayer             0   \n",
       "4                      Action             FPS;Action;Sci-fi             0   \n",
       "...                       ...                           ...           ...   \n",
       "27070  Adventure;Casual;Indie        Adventure;Indie;Casual             7   \n",
       "27071  Action;Adventure;Indie        Action;Indie;Adventure             0   \n",
       "27072     Action;Casual;Indie           Action;Indie;Casual            24   \n",
       "27073  Adventure;Casual;Indie        Indie;Casual;Adventure             0   \n",
       "27074  Adventure;Casual;Indie        Indie;Casual;Adventure             0   \n",
       "\n",
       "       positive_ratings  negative_ratings  average_playtime  median_playtime  \\\n",
       "0                124534              3339             17612              317   \n",
       "1                  3318               633               277               62   \n",
       "2                  3416               398               187               34   \n",
       "3                  1273               267               258              184   \n",
       "4                  5250               288               624              415   \n",
       "...                 ...               ...               ...              ...   \n",
       "27070                 3                 0                 0                0   \n",
       "27071                 8                 1                 0                0   \n",
       "27072                 0                 1                 0                0   \n",
       "27073                 2                 0                 0                0   \n",
       "27074                 4                 0                 0                0   \n",
       "\n",
       "                  owners  price  \n",
       "0      10000000-20000000   7.19  \n",
       "1       5000000-10000000   3.99  \n",
       "2       5000000-10000000   3.99  \n",
       "3       5000000-10000000   3.99  \n",
       "4       5000000-10000000   3.99  \n",
       "...                  ...    ...  \n",
       "27070            0-20000   2.09  \n",
       "27071            0-20000   1.69  \n",
       "27072            0-20000   3.99  \n",
       "27073            0-20000   5.19  \n",
       "27074            0-20000   5.19  \n",
       "\n",
       "[27075 rows x 18 columns]"
      ],
      "text/html": "<div>\n<style scoped>\n    .dataframe tbody tr th:only-of-type {\n        vertical-align: middle;\n    }\n\n    .dataframe tbody tr th {\n        vertical-align: top;\n    }\n\n    .dataframe thead th {\n        text-align: right;\n    }\n</style>\n<table border=\"1\" class=\"dataframe\">\n  <thead>\n    <tr style=\"text-align: right;\">\n      <th></th>\n      <th>appid</th>\n      <th>name</th>\n      <th>release_date</th>\n      <th>english</th>\n      <th>developer</th>\n      <th>publisher</th>\n      <th>platforms</th>\n      <th>required_age</th>\n      <th>categories</th>\n      <th>genres</th>\n      <th>steamspy_tags</th>\n      <th>achievements</th>\n      <th>positive_ratings</th>\n      <th>negative_ratings</th>\n      <th>average_playtime</th>\n      <th>median_playtime</th>\n      <th>owners</th>\n      <th>price</th>\n    </tr>\n  </thead>\n  <tbody>\n    <tr>\n      <td>0</td>\n      <td>10</td>\n      <td>Counter-Strike</td>\n      <td>2000-11-01</td>\n      <td>1</td>\n      <td>Valve</td>\n      <td>Valve</td>\n      <td>windows;mac;linux</td>\n      <td>0</td>\n      <td>Multi-player;Online Multi-Player;Local Multi-P...</td>\n      <td>Action</td>\n      <td>Action;FPS;Multiplayer</td>\n      <td>0</td>\n      <td>124534</td>\n      <td>3339</td>\n      <td>17612</td>\n      <td>317</td>\n      <td>10000000-20000000</td>\n      <td>7.19</td>\n    </tr>\n    <tr>\n      <td>1</td>\n      <td>20</td>\n      <td>Team Fortress Classic</td>\n      <td>1999-04-01</td>\n      <td>1</td>\n      <td>Valve</td>\n      <td>Valve</td>\n      <td>windows;mac;linux</td>\n      <td>0</td>\n      <td>Multi-player;Online Multi-Player;Local Multi-P...</td>\n      <td>Action</td>\n      <td>Action;FPS;Multiplayer</td>\n      <td>0</td>\n      <td>3318</td>\n      <td>633</td>\n      <td>277</td>\n      <td>62</td>\n      <td>5000000-10000000</td>\n      <td>3.99</td>\n    </tr>\n    <tr>\n      <td>2</td>\n      <td>30</td>\n      <td>Day of Defeat</td>\n      <td>2003-05-01</td>\n      <td>1</td>\n      <td>Valve</td>\n      <td>Valve</td>\n      <td>windows;mac;linux</td>\n      <td>0</td>\n      <td>Multi-player;Valve Anti-Cheat enabled</td>\n      <td>Action</td>\n      <td>FPS;World War II;Multiplayer</td>\n      <td>0</td>\n      <td>3416</td>\n      <td>398</td>\n      <td>187</td>\n      <td>34</td>\n      <td>5000000-10000000</td>\n      <td>3.99</td>\n    </tr>\n    <tr>\n      <td>3</td>\n      <td>40</td>\n      <td>Deathmatch Classic</td>\n      <td>2001-06-01</td>\n      <td>1</td>\n      <td>Valve</td>\n      <td>Valve</td>\n      <td>windows;mac;linux</td>\n      <td>0</td>\n      <td>Multi-player;Online Multi-Player;Local Multi-P...</td>\n      <td>Action</td>\n      <td>Action;FPS;Multiplayer</td>\n      <td>0</td>\n      <td>1273</td>\n      <td>267</td>\n      <td>258</td>\n      <td>184</td>\n      <td>5000000-10000000</td>\n      <td>3.99</td>\n    </tr>\n    <tr>\n      <td>4</td>\n      <td>50</td>\n      <td>Half-Life: Opposing Force</td>\n      <td>1999-11-01</td>\n      <td>1</td>\n      <td>Gearbox Software</td>\n      <td>Valve</td>\n      <td>windows;mac;linux</td>\n      <td>0</td>\n      <td>Single-player;Multi-player;Valve Anti-Cheat en...</td>\n      <td>Action</td>\n      <td>FPS;Action;Sci-fi</td>\n      <td>0</td>\n      <td>5250</td>\n      <td>288</td>\n      <td>624</td>\n      <td>415</td>\n      <td>5000000-10000000</td>\n      <td>3.99</td>\n    </tr>\n    <tr>\n      <td>...</td>\n      <td>...</td>\n      <td>...</td>\n      <td>...</td>\n      <td>...</td>\n      <td>...</td>\n      <td>...</td>\n      <td>...</td>\n      <td>...</td>\n      <td>...</td>\n      <td>...</td>\n      <td>...</td>\n      <td>...</td>\n      <td>...</td>\n      <td>...</td>\n      <td>...</td>\n      <td>...</td>\n      <td>...</td>\n      <td>...</td>\n    </tr>\n    <tr>\n      <td>27070</td>\n      <td>1065230</td>\n      <td>Room of Pandora</td>\n      <td>2019-04-24</td>\n      <td>1</td>\n      <td>SHEN JIAWEI</td>\n      <td>SHEN JIAWEI</td>\n      <td>windows</td>\n      <td>0</td>\n      <td>Single-player;Steam Achievements</td>\n      <td>Adventure;Casual;Indie</td>\n      <td>Adventure;Indie;Casual</td>\n      <td>7</td>\n      <td>3</td>\n      <td>0</td>\n      <td>0</td>\n      <td>0</td>\n      <td>0-20000</td>\n      <td>2.09</td>\n    </tr>\n    <tr>\n      <td>27071</td>\n      <td>1065570</td>\n      <td>Cyber Gun</td>\n      <td>2019-04-23</td>\n      <td>1</td>\n      <td>Semyon Maximov</td>\n      <td>BekkerDev Studio</td>\n      <td>windows</td>\n      <td>0</td>\n      <td>Single-player</td>\n      <td>Action;Adventure;Indie</td>\n      <td>Action;Indie;Adventure</td>\n      <td>0</td>\n      <td>8</td>\n      <td>1</td>\n      <td>0</td>\n      <td>0</td>\n      <td>0-20000</td>\n      <td>1.69</td>\n    </tr>\n    <tr>\n      <td>27072</td>\n      <td>1065650</td>\n      <td>Super Star Blast</td>\n      <td>2019-04-24</td>\n      <td>1</td>\n      <td>EntwicklerX</td>\n      <td>EntwicklerX</td>\n      <td>windows</td>\n      <td>0</td>\n      <td>Single-player;Multi-player;Co-op;Shared/Split ...</td>\n      <td>Action;Casual;Indie</td>\n      <td>Action;Indie;Casual</td>\n      <td>24</td>\n      <td>0</td>\n      <td>1</td>\n      <td>0</td>\n      <td>0</td>\n      <td>0-20000</td>\n      <td>3.99</td>\n    </tr>\n    <tr>\n      <td>27073</td>\n      <td>1066700</td>\n      <td>New Yankee 7: Deer Hunters</td>\n      <td>2019-04-17</td>\n      <td>1</td>\n      <td>Yustas Game Studio</td>\n      <td>Alawar Entertainment</td>\n      <td>windows;mac</td>\n      <td>0</td>\n      <td>Single-player;Steam Cloud</td>\n      <td>Adventure;Casual;Indie</td>\n      <td>Indie;Casual;Adventure</td>\n      <td>0</td>\n      <td>2</td>\n      <td>0</td>\n      <td>0</td>\n      <td>0</td>\n      <td>0-20000</td>\n      <td>5.19</td>\n    </tr>\n    <tr>\n      <td>27074</td>\n      <td>1069460</td>\n      <td>Rune Lord</td>\n      <td>2019-04-24</td>\n      <td>1</td>\n      <td>Adept Studios GD</td>\n      <td>Alawar Entertainment</td>\n      <td>windows;mac</td>\n      <td>0</td>\n      <td>Single-player;Steam Cloud</td>\n      <td>Adventure;Casual;Indie</td>\n      <td>Indie;Casual;Adventure</td>\n      <td>0</td>\n      <td>4</td>\n      <td>0</td>\n      <td>0</td>\n      <td>0</td>\n      <td>0-20000</td>\n      <td>5.19</td>\n    </tr>\n  </tbody>\n</table>\n<p>27075 rows × 18 columns</p>\n</div>"
     },
     "metadata": {},
     "execution_count": 4
    }
   ],
   "source": [
    "df = pd.read_csv('../datasets/steam.csv')\n",
    "df"
   ]
  },
  {
   "cell_type": "code",
   "execution_count": 5,
   "metadata": {},
   "outputs": [
    {
     "output_type": "stream",
     "name": "stdout",
     "text": [
      "<class 'pandas.core.frame.DataFrame'>\nRangeIndex: 27075 entries, 0 to 27074\nData columns (total 18 columns):\nappid               27075 non-null int64\nname                27075 non-null object\nrelease_date        27075 non-null object\nenglish             27075 non-null int64\ndeveloper           27075 non-null object\npublisher           27075 non-null object\nplatforms           27075 non-null object\nrequired_age        27075 non-null int64\ncategories          27075 non-null object\ngenres              27075 non-null object\nsteamspy_tags       27075 non-null object\nachievements        27075 non-null int64\npositive_ratings    27075 non-null int64\nnegative_ratings    27075 non-null int64\naverage_playtime    27075 non-null int64\nmedian_playtime     27075 non-null int64\nowners              27075 non-null object\nprice               27075 non-null float64\ndtypes: float64(1), int64(8), object(9)\nmemory usage: 3.7+ MB\n"
     ]
    }
   ],
   "source": [
    "df.info()"
   ]
  },
  {
   "cell_type": "code",
   "execution_count": 25,
   "metadata": {},
   "outputs": [
    {
     "output_type": "execute_result",
     "data": {
      "text/plain": [
       "                                                                                       average_playtime\n",
       "name                                 genres                                                            \n",
       "The Abbey of Crime Extensum          Adventure;Free to Play                                      190625\n",
       "The Banner Saga: Factions            Free to Play;Indie;RPG;Strategy                              95245\n",
       "The Secret of Tremendous Corporation Adventure;Casual;Free to Play;Indie                          95242\n",
       "PRICE                                Adventure;Casual;Indie                                       63481\n",
       "Boundless                            Action;Adventure;Indie;Massively Multiplayer;RPG             55204\n",
       "...                                                                                                 ...\n",
       "Hat Trick Header                     Action;Casual;Sports                                             0\n",
       "Hat Hunters                          Action;Casual;Free to Play;Indie;Strategy                        0\n",
       "Haste Heist                          Indie                                                            0\n",
       "Hashtag Dungeon                      Action;Indie;RPG                                                 0\n",
       "＜/reality＞                           Adventure;Indie                                                  0\n",
       "\n",
       "[27072 rows x 1 columns]"
      ],
      "text/html": "<div>\n<style scoped>\n    .dataframe tbody tr th:only-of-type {\n        vertical-align: middle;\n    }\n\n    .dataframe tbody tr th {\n        vertical-align: top;\n    }\n\n    .dataframe thead th {\n        text-align: right;\n    }\n</style>\n<table border=\"1\" class=\"dataframe\">\n  <thead>\n    <tr style=\"text-align: right;\">\n      <th></th>\n      <th></th>\n      <th>average_playtime</th>\n    </tr>\n    <tr>\n      <th>name</th>\n      <th>genres</th>\n      <th></th>\n    </tr>\n  </thead>\n  <tbody>\n    <tr>\n      <td>The Abbey of Crime Extensum</td>\n      <td>Adventure;Free to Play</td>\n      <td>190625</td>\n    </tr>\n    <tr>\n      <td>The Banner Saga: Factions</td>\n      <td>Free to Play;Indie;RPG;Strategy</td>\n      <td>95245</td>\n    </tr>\n    <tr>\n      <td>The Secret of Tremendous Corporation</td>\n      <td>Adventure;Casual;Free to Play;Indie</td>\n      <td>95242</td>\n    </tr>\n    <tr>\n      <td>PRICE</td>\n      <td>Adventure;Casual;Indie</td>\n      <td>63481</td>\n    </tr>\n    <tr>\n      <td>Boundless</td>\n      <td>Action;Adventure;Indie;Massively Multiplayer;RPG</td>\n      <td>55204</td>\n    </tr>\n    <tr>\n      <td>...</td>\n      <td>...</td>\n      <td>...</td>\n    </tr>\n    <tr>\n      <td>Hat Trick Header</td>\n      <td>Action;Casual;Sports</td>\n      <td>0</td>\n    </tr>\n    <tr>\n      <td>Hat Hunters</td>\n      <td>Action;Casual;Free to Play;Indie;Strategy</td>\n      <td>0</td>\n    </tr>\n    <tr>\n      <td>Haste Heist</td>\n      <td>Indie</td>\n      <td>0</td>\n    </tr>\n    <tr>\n      <td>Hashtag Dungeon</td>\n      <td>Action;Indie;RPG</td>\n      <td>0</td>\n    </tr>\n    <tr>\n      <td>＜/reality＞</td>\n      <td>Adventure;Indie</td>\n      <td>0</td>\n    </tr>\n  </tbody>\n</table>\n<p>27072 rows × 1 columns</p>\n</div>"
     },
     "metadata": {},
     "execution_count": 25
    }
   ],
   "source": [
    "df.groupby(['name','genres'])[['name', 'genres', 'average_playtime']].sum().sort_values(ascending=False, by='average_playtime')"
   ]
  },
  {
   "cell_type": "code",
   "execution_count": null,
   "metadata": {},
   "outputs": [],
   "source": []
  }
 ]
}